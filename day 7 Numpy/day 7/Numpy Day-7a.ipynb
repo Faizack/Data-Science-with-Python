{
 "cells": [
  {
   "cell_type": "markdown",
   "id": "c23bebef",
   "metadata": {},
   "source": [
    "# Importing a Numpy Library"
   ]
  },
  {
   "cell_type": "code",
   "execution_count": 2,
   "id": "51e8e8a3",
   "metadata": {},
   "outputs": [],
   "source": [
    "import numpy as np"
   ]
  },
  {
   "cell_type": "markdown",
   "id": "67a5ed11",
   "metadata": {},
   "source": [
    "# This One Dimentional Array\n"
   ]
  },
  {
   "cell_type": "code",
   "execution_count": 3,
   "id": "5bc372d8",
   "metadata": {},
   "outputs": [
    {
     "data": {
      "text/plain": [
       "array([1, 2, 3, 4, 5])"
      ]
     },
     "execution_count": 3,
     "metadata": {},
     "output_type": "execute_result"
    }
   ],
   "source": [
    "a=np.array([1,2,3,4,5])\n",
    "a"
   ]
  },
  {
   "cell_type": "code",
   "execution_count": 4,
   "id": "f7b89b4e",
   "metadata": {},
   "outputs": [
    {
     "data": {
      "text/plain": [
       "array([0., 0., 0.])"
      ]
     },
     "execution_count": 4,
     "metadata": {},
     "output_type": "execute_result"
    }
   ],
   "source": [
    "b=np.zeros(3)\n",
    "b"
   ]
  },
  {
   "cell_type": "code",
   "execution_count": 5,
   "id": "26cf0260",
   "metadata": {},
   "outputs": [
    {
     "data": {
      "text/plain": [
       "array([1., 1., 1.])"
      ]
     },
     "execution_count": 5,
     "metadata": {},
     "output_type": "execute_result"
    }
   ],
   "source": [
    "c=np.ones(3)\n",
    "c"
   ]
  },
  {
   "cell_type": "code",
   "execution_count": 6,
   "id": "0d98e58c",
   "metadata": {},
   "outputs": [
    {
     "data": {
      "text/plain": [
       "array([1., 1., 1.])"
      ]
     },
     "execution_count": 6,
     "metadata": {},
     "output_type": "execute_result"
    }
   ],
   "source": [
    "d=np.empty(3)\n",
    "d"
   ]
  },
  {
   "cell_type": "code",
   "execution_count": 10,
   "id": "5bb57bef",
   "metadata": {},
   "outputs": [
    {
     "data": {
      "text/plain": [
       "array([12.,  1.,  1.])"
      ]
     },
     "execution_count": 10,
     "metadata": {},
     "output_type": "execute_result"
    }
   ],
   "source": [
    "d[0]=12\n",
    "d"
   ]
  },
  {
   "cell_type": "markdown",
   "id": "30d02e21",
   "metadata": {},
   "source": [
    "# Create array with Arange function"
   ]
  },
  {
   "cell_type": "code",
   "execution_count": 86,
   "id": "86703832",
   "metadata": {},
   "outputs": [
    {
     "data": {
      "text/plain": [
       "array([0, 1, 2, 3, 4, 5, 6, 7])"
      ]
     },
     "execution_count": 86,
     "metadata": {},
     "output_type": "execute_result"
    }
   ],
   "source": [
    "d=np.arange(8)\n",
    "d"
   ]
  },
  {
   "cell_type": "code",
   "execution_count": 96,
   "id": "4d0ec717",
   "metadata": {},
   "outputs": [
    {
     "data": {
      "text/plain": [
       "array([0, 2, 4, 6, 8])"
      ]
     },
     "execution_count": 96,
     "metadata": {},
     "output_type": "execute_result"
    }
   ],
   "source": [
    "# With specified range\n",
    "d=np.arange(0,10,2)\n",
    "d"
   ]
  },
  {
   "cell_type": "raw",
   "id": "a9fbca2a",
   "metadata": {},
   "source": [
    "# linearly spaced arrays"
   ]
  },
  {
   "cell_type": "code",
   "execution_count": 98,
   "id": "2a6cc109",
   "metadata": {},
   "outputs": [
    {
     "data": {
      "text/plain": [
       "array([ 0.        ,  3.33333333,  6.66666667, 10.        ])"
      ]
     },
     "execution_count": 98,
     "metadata": {},
     "output_type": "execute_result"
    }
   ],
   "source": [
    "\n",
    "d=np.linspace(0,10,num=4)\n",
    "d"
   ]
  },
  {
   "cell_type": "raw",
   "id": "400ae1d7",
   "metadata": {},
   "source": [
    "# CONTINUE Array"
   ]
  },
  {
   "cell_type": "code",
   "execution_count": 89,
   "id": "ba7a41fd",
   "metadata": {},
   "outputs": [
    {
     "data": {
      "text/plain": [
       "array([2, 4, 6])"
      ]
     },
     "execution_count": 89,
     "metadata": {},
     "output_type": "execute_result"
    }
   ],
   "source": [
    "\n",
    "d=np.arange(2,8,2)\n",
    "d"
   ]
  },
  {
   "cell_type": "raw",
   "id": "c499f598",
   "metadata": {},
   "source": [
    "Specific data types in array"
   ]
  },
  {
   "cell_type": "code",
   "execution_count": 102,
   "id": "ca936e40",
   "metadata": {},
   "outputs": [
    {
     "data": {
      "text/plain": [
       "array([0., 1., 2., 3., 4., 5., 6., 7., 8., 9.])"
      ]
     },
     "execution_count": 102,
     "metadata": {},
     "output_type": "execute_result"
    }
   ],
   "source": [
    "withdatatype=np.arange(10,dtype=np.float64)\n",
    "withdatatype"
   ]
  },
  {
   "cell_type": "code",
   "execution_count": 90,
   "id": "eb7f42b5",
   "metadata": {},
   "outputs": [
    {
     "name": "stdout",
     "output_type": "stream",
     "text": [
      "[1 2 3 4 5]\n"
     ]
    }
   ],
   "source": [
    "print(a[0:])"
   ]
  },
  {
   "cell_type": "markdown",
   "id": "080360bb",
   "metadata": {},
   "source": [
    "# length of Array"
   ]
  },
  {
   "cell_type": "code",
   "execution_count": 69,
   "id": "abd25c14",
   "metadata": {},
   "outputs": [
    {
     "name": "stdout",
     "output_type": "stream",
     "text": [
      "2\n"
     ]
    }
   ],
   "source": [
    "l=len(a)\n",
    "print(l)"
   ]
  },
  {
   "cell_type": "markdown",
   "id": "db45d961",
   "metadata": {},
   "source": [
    "# 2-Dimentional array"
   ]
  },
  {
   "cell_type": "code",
   "execution_count": 113,
   "id": "a1ace877",
   "metadata": {},
   "outputs": [
    {
     "data": {
      "text/plain": [
       "array([[1, 2],\n",
       "       [3, 4],\n",
       "       [5, 6]])"
      ]
     },
     "execution_count": 113,
     "metadata": {},
     "output_type": "execute_result"
    }
   ],
   "source": [
    "d2=np.array([[1,2],[3,4],[5,6]])\n",
    "d2"
   ]
  },
  {
   "cell_type": "code",
   "execution_count": 119,
   "id": "794c03b0",
   "metadata": {},
   "outputs": [
    {
     "data": {
      "text/plain": [
       "array([[0., 0., 0., 0.],\n",
       "       [0., 0., 0., 0.],\n",
       "       [0., 0., 0., 0.]])"
      ]
     },
     "execution_count": 119,
     "metadata": {},
     "output_type": "execute_result"
    }
   ],
   "source": [
    "d3=np.zeros((3,4))\n",
    "d3"
   ]
  },
  {
   "cell_type": "markdown",
   "id": "1b7eaf75",
   "metadata": {},
   "source": [
    "# 3-Dimentional array"
   ]
  },
  {
   "cell_type": "code",
   "execution_count": 112,
   "id": "64e149f6",
   "metadata": {},
   "outputs": [
    {
     "data": {
      "text/plain": [
       "array([[[ 0,  1,  2,  3],\n",
       "        [ 4,  5,  6,  7]],\n",
       "\n",
       "       [[ 8,  9, 10, 11],\n",
       "        [12, 13, 14, 15]],\n",
       "\n",
       "       [[16, 17, 18, 19],\n",
       "        [20, 21, 22, 23]]])"
      ]
     },
     "execution_count": 112,
     "metadata": {},
     "output_type": "execute_result"
    }
   ],
   "source": [
    "c=np.arange(24).reshape(3,2,4)\n",
    "c"
   ]
  },
  {
   "cell_type": "code",
   "execution_count": 11,
   "id": "4ba32fc1",
   "metadata": {},
   "outputs": [
    {
     "data": {
      "text/plain": [
       "array([1, 2, 3, 4, 5])"
      ]
     },
     "execution_count": 11,
     "metadata": {},
     "output_type": "execute_result"
    }
   ],
   "source": [
    "a=np.array([1,2,3,4,5])\n",
    "a"
   ]
  },
  {
   "cell_type": "code",
   "execution_count": 23,
   "id": "bed72b45",
   "metadata": {},
   "outputs": [
    {
     "data": {
      "text/plain": [
       "array(['samosas', 'sd', 'fsad', 'Fasd', 'sdsa'], dtype='<U7')"
      ]
     },
     "execution_count": 23,
     "metadata": {},
     "output_type": "execute_result"
    }
   ],
   "source": [
    "b=np.array([\"samosas\",\"sd\",\"fsad\",\"Fasd\",\"sdsa\"])\n",
    "b"
   ]
  },
  {
   "cell_type": "code",
   "execution_count": 24,
   "id": "ab95fc02",
   "metadata": {},
   "outputs": [
    {
     "data": {
      "text/plain": [
       "array(['1', '2', '3', '4', '5', 'samosas', 'sd', 'fsad', 'Fasd', 'sdsa'],\n",
       "      dtype='<U11')"
      ]
     },
     "execution_count": 24,
     "metadata": {},
     "output_type": "execute_result"
    }
   ],
   "source": [
    "c=np.concatenate((a,b))\n",
    "c"
   ]
  },
  {
   "cell_type": "code",
   "execution_count": 26,
   "id": "bc5edd21",
   "metadata": {},
   "outputs": [
    {
     "data": {
      "text/plain": [
       "array(['1', '2', '3', '4', '5', 'Fasd', 'fsad', 'samosas', 'sd', 'sdsa'],\n",
       "      dtype='<U11')"
      ]
     },
     "execution_count": 26,
     "metadata": {},
     "output_type": "execute_result"
    }
   ],
   "source": [
    "c.sort()\n",
    "c"
   ]
  }
 ],
 "metadata": {
  "kernelspec": {
   "display_name": "Python 3 (ipykernel)",
   "language": "python",
   "name": "python3"
  },
  "language_info": {
   "codemirror_mode": {
    "name": "ipython",
    "version": 3
   },
   "file_extension": ".py",
   "mimetype": "text/x-python",
   "name": "python",
   "nbconvert_exporter": "python",
   "pygments_lexer": "ipython3",
   "version": "3.10.5"
  }
 },
 "nbformat": 4,
 "nbformat_minor": 5
}
