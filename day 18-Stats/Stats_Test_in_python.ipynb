{
 "cells": [
  {
   "cell_type": "markdown",
   "metadata": {},
   "source": [
    "## 1. Shapiro Wilk Test"
   ]
  },
  {
   "cell_type": "markdown",
   "metadata": {},
   "source": [
    "Test wherther the data sample is gaussion distribution\n",
    "\n",
    "**Assumptions**\n",
    "1. Observation in each sample are independent and identically distributed(iid)\n",
    "2. Interpretation\n",
    "   \n",
    "   - H0 : The Sample has Guassion Distribution\n",
    "   - H1 : The Sample Does not Have Guassion Distribution"
   ]
  },
  {
   "cell_type": "code",
   "execution_count": 2,
   "metadata": {},
   "outputs": [],
   "source": [
    "import seaborn as sns"
   ]
  },
  {
   "cell_type": "code",
   "execution_count": 44,
   "metadata": {},
   "outputs": [
    {
     "name": "stdout",
     "output_type": "stream",
     "text": [
      "stat= 0.9701647162437439 P-Value= 0.8923683762550354\n",
      "Data is Guassion Distribute\n"
     ]
    }
   ],
   "source": [
    "from os import stat\n",
    "from scipy.stats import shapiro\n",
    "toss=['H','H','H','H','H','H','H','H','T','T']\n",
    "data=[10,20,30,40,50,60,70,80,90,100]\n",
    "stats,p_value=shapiro(data)\n",
    "print('stat=',stats,'P-Value=',p_value)\n",
    "if p_value > 0.05 :\n",
    "    print(\"Data is Guassion Distribute\")\n",
    "else :\n",
    "    print(\"Data is Not Guassion Distribution\")    \n",
    "\n"
   ]
  },
  {
   "cell_type": "code",
   "execution_count": null,
   "metadata": {},
   "outputs": [],
   "source": []
  },
  {
   "cell_type": "code",
   "execution_count": 1,
   "metadata": {},
   "outputs": [],
   "source": [
    "# toss=(['H','H','H','H','H','H','H','H','T','T'])\n",
    "# for i in range(toss):\n",
    "#     print(i)\n",
    "\n",
    "\n",
    "# stats,p_value=shapiro(toss)\n",
    "# print('stat=',stats,'P-Value=',p_value)\n",
    "# if p_value > 0.05 :\n",
    "#     print(\"Data is Guassion Distribute\")\n",
    "# else :\n",
    "#     print(\"Data is Not Guassion Distribution\")    "
   ]
  },
  {
   "cell_type": "code",
   "execution_count": 42,
   "metadata": {},
   "outputs": [
    {
     "data": {
      "text/plain": [
       "<AxesSubplot:ylabel='Count'>"
      ]
     },
     "execution_count": 42,
     "metadata": {},
     "output_type": "execute_result"
    },
    {
     "data": {
      "image/png": "[encoded data removed]",
      "text/plain": [
       "<Figure size 432x288 with 1 Axes>"
      ]
     },
     "metadata": {
      "needs_background": "light"
     },
     "output_type": "display_data"
    }
   ],
   "source": [
    "sns.histplot(data,kde=True,bins=10)"
   ]
  },
  {
   "cell_type": "code",
   "execution_count": 38,
   "metadata": {},
   "outputs": [
    {
     "name": "stderr",
     "output_type": "stream",
     "text": [
      "c:\\Users\\Khan\\AppData\\Local\\Programs\\Python\\Python310\\lib\\site-packages\\seaborn\\_decorators.py:36: FutureWarning: Pass the following variable as a keyword arg: x. From version 0.12, the only valid positional argument will be `data`, and passing other arguments without an explicit keyword will result in an error or misinterpretation.\n",
      "  warnings.warn(\n"
     ]
    },
    {
     "data": {
      "text/plain": [
       "<AxesSubplot:>"
      ]
     },
     "execution_count": 38,
     "metadata": {},
     "output_type": "execute_result"
    },
    {
     "data": {
      "image/png": "[encoded data removed]",
      "text/plain": [
       "<Figure size 432x288 with 1 Axes>"
      ]
     },
     "metadata": {
      "needs_background": "light"
     },
     "output_type": "display_data"
    }
   ],
   "source": [
    "sns.boxplot(data)"
   ]
  },
  {
   "cell_type": "code",
   "execution_count": null,
   "metadata": {},
   "outputs": [],
   "source": []
  }
 ],
 "metadata": {
  "kernelspec": {
   "display_name": "Python 3.10.5 64-bit",
   "language": "python",
   "name": "python3"
  },
  "language_info": {
   "codemirror_mode": {
    "name": "ipython",
    "version": 3
   },
   "file_extension": ".py",
   "mimetype": "text/x-python",
   "name": "python",
   "nbconvert_exporter": "python",
   "pygments_lexer": "ipython3",
   "version": "3.10.5"
  },
  "orig_nbformat": 4,
  "vscode": {
   "interpreter": {
    "hash": "22a808f4f3bd653072ee6d4e7b6e42544d1d070f4df0d3b0f2273cf2017f4479"
   }
  }
 },
 "nbformat": 4,
 "nbformat_minor": 2
}
