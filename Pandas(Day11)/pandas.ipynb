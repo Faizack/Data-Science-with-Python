{
 "cells": [
  {
   "cell_type": "markdown",
   "metadata": {},
   "source": [
    "# Pandas Tutorial - Day 11"
   ]
  },
  {
   "cell_type": "markdown",
   "metadata": {},
   "source": [
    "- Install Pandas Command"
   ]
  },
  {
   "cell_type": "code",
   "execution_count": 41,
   "metadata": {},
   "outputs": [],
   "source": [
    "# pip install pandas"
   ]
  },
  {
   "cell_type": "markdown",
   "metadata": {},
   "source": [
    "- Import Pandas Library"
   ]
  },
  {
   "cell_type": "code",
   "execution_count": 42,
   "metadata": {},
   "outputs": [],
   "source": [
    "import pandas as pd\n",
    "import numpy as np"
   ]
  },
  {
   "cell_type": "markdown",
   "metadata": {},
   "source": [
    "- Pandas Object Creation Method \n",
    "  "
   ]
  },
  {
   "cell_type": "markdown",
   "metadata": {},
   "source": [
    "1.  Creating an Empty DataFrame"
   ]
  },
  {
   "cell_type": "code",
   "execution_count": 43,
   "metadata": {},
   "outputs": [
    {
     "name": "stdout",
     "output_type": "stream",
     "text": [
      "Empty DataFrame\n",
      "Columns: []\n",
      "Index: []\n"
     ]
    }
   ],
   "source": [
    "empty=pd.DataFrame()\n",
    "print(empty)"
   ]
  },
  {
   "cell_type": "markdown",
   "metadata": {},
   "source": [
    "2. Creating  Dataframe from Lists"
   ]
  },
  {
   "cell_type": "code",
   "execution_count": 44,
   "metadata": {},
   "outputs": [
    {
     "name": "stdout",
     "output_type": "stream",
     "text": [
      "        Marks\n",
      "faizan     10\n",
      "arshad     20\n",
      "shahid     30\n",
      "chand      40\n",
      "asif       50\n"
     ]
    },
    {
     "data": {
      "text/plain": [
       "Marks    20\n",
       "Name: arshad, dtype: int64"
      ]
     },
     "execution_count": 44,
     "metadata": {},
     "output_type": "execute_result"
    }
   ],
   "source": [
    "data=[10,20,30,40,50] #data\n",
    "\n",
    "df=pd.DataFrame(data,columns=['Marks'],index=['faizan','arshad','shahid','chand','asif'])\n",
    "print(df)\n",
    "df.loc['arshad']"
   ]
  },
  {
   "cell_type": "markdown",
   "metadata": {},
   "source": [
    " 3. Creating Pandas DataFrame from lists of lists."
   ]
  },
  {
   "cell_type": "code",
   "execution_count": 45,
   "metadata": {},
   "outputs": [
    {
     "name": "stdout",
     "output_type": "stream",
     "text": [
      "   Rollno     Names  Marks\n",
      "0       1    Faizan     86\n",
      "1       2     Sahid     98\n",
      "2       3    Resham     23\n",
      "3       4      Asif     45\n",
      "4       5  Sikander     56\n"
     ]
    },
    {
     "data": {
      "text/plain": [
       "Rollno     int64\n",
       "Names     object\n",
       "Marks      int64\n",
       "dtype: object"
      ]
     },
     "execution_count": 45,
     "metadata": {},
     "output_type": "execute_result"
    }
   ],
   "source": [
    "data=[\n",
    "    [1,'Faizan',86]\n",
    "    ,[2,'Sahid',98]\n",
    "    ,[3,'Resham',23]\n",
    "    ,[4,'Asif',45]\n",
    "    ,[5,'Sikander',56]\n",
    "    ]\n",
    "df=pd.DataFrame(data,columns=['Rollno','Names','Marks'])\n",
    "print(df)  \n",
    "df.dtypes \n"
   ]
  },
  {
   "cell_type": "markdown",
   "metadata": {},
   "source": [
    "4.  Creating DataFrame from dict of narray/lists"
   ]
  },
  {
   "cell_type": "code",
   "execution_count": 46,
   "metadata": {},
   "outputs": [
    {
     "name": "stdout",
     "output_type": "stream",
     "text": [
      "   Rollno   Names  Marks\n",
      "0       1  faizan     56\n",
      "1       2  shahid     76\n",
      "2       3   chand     23\n",
      "3       4  arshad     45\n",
      "4       5   imran     83\n"
     ]
    },
    {
     "data": {
      "text/plain": [
       "Rollno         4\n",
       "Names     arshad\n",
       "Marks         45\n",
       "Name: 3, dtype: object"
      ]
     },
     "execution_count": 46,
     "metadata": {},
     "output_type": "execute_result"
    }
   ],
   "source": [
    "data={\n",
    "    'Rollno': [1,2,3,4,5],\n",
    "    'Names' : ['faizan','shahid','chand','arshad','imran'],\n",
    "    'Marks' : [56,76,23,45,83]\n",
    "    }\n",
    "df=pd.DataFrame(data)\n",
    "print(df)  \n",
    "df.iloc[3]"
   ]
  },
  {
   "cell_type": "markdown",
   "metadata": {},
   "source": [
    "5. Creating Dataframe with Series"
   ]
  },
  {
   "cell_type": "code",
   "execution_count": 47,
   "metadata": {},
   "outputs": [
    {
     "name": "stdout",
     "output_type": "stream",
     "text": [
      "0      1\n",
      "1      2\n",
      "2      3\n",
      "3      4\n",
      "4      5\n",
      "5      7\n",
      "6      8\n",
      "7      9\n",
      "8     10\n",
      "9     11\n",
      "10    12\n",
      "11    13\n",
      "dtype: int64\n"
     ]
    }
   ],
   "source": [
    "s=pd.Series([1,2,3,4,5,7,8,9,10,11,12,13])\n",
    "print(s)"
   ]
  },
  {
   "cell_type": "markdown",
   "metadata": {},
   "source": [
    "A. Filtering Data"
   ]
  },
  {
   "cell_type": "markdown",
   "metadata": {},
   "source": [
    "- Sort"
   ]
  },
  {
   "cell_type": "code",
   "execution_count": 48,
   "metadata": {},
   "outputs": [
    {
     "name": "stdout",
     "output_type": "stream",
     "text": [
      "DatetimeIndex(['2022-01-07', '2022-01-08', '2022-01-09', '2022-01-10',\n",
      "               '2022-01-11'],\n",
      "              dtype='datetime64[ns]', freq='D') \n",
      "\n",
      "\n",
      "             Rollno   Names  Marks\n",
      "2022-01-07       1  faizan     56\n",
      "2022-01-08       2  shahid     76\n",
      "2022-01-09       3   chand     23\n",
      "2022-01-10       4  arshad     45\n",
      "2022-01-11       5   imran     83\n"
     ]
    },
    {
     "data": {
      "text/html": [
       "<div>\n",
       "<style scoped>\n",
       "    .dataframe tbody tr th:only-of-type {\n",
       "        vertical-align: middle;\n",
       "    }\n",
       "\n",
       "    .dataframe tbody tr th {\n",
       "        vertical-align: top;\n",
       "    }\n",
       "\n",
       "    .dataframe thead th {\n",
       "        text-align: right;\n",
       "    }\n",
       "</style>\n",
       "<table border=\"1\" class=\"dataframe\">\n",
       "  <thead>\n",
       "    <tr style=\"text-align: right;\">\n",
       "      <th></th>\n",
       "      <th>Rollno</th>\n",
       "      <th>Names</th>\n",
       "      <th>Marks</th>\n",
       "    </tr>\n",
       "  </thead>\n",
       "  <tbody>\n",
       "    <tr>\n",
       "      <th>2022-01-07</th>\n",
       "      <td>1</td>\n",
       "      <td>faizan</td>\n",
       "      <td>56</td>\n",
       "    </tr>\n",
       "    <tr>\n",
       "      <th>2022-01-08</th>\n",
       "      <td>2</td>\n",
       "      <td>shahid</td>\n",
       "      <td>76</td>\n",
       "    </tr>\n",
       "    <tr>\n",
       "      <th>2022-01-09</th>\n",
       "      <td>3</td>\n",
       "      <td>chand</td>\n",
       "      <td>23</td>\n",
       "    </tr>\n",
       "    <tr>\n",
       "      <th>2022-01-10</th>\n",
       "      <td>4</td>\n",
       "      <td>arshad</td>\n",
       "      <td>45</td>\n",
       "    </tr>\n",
       "    <tr>\n",
       "      <th>2022-01-11</th>\n",
       "      <td>5</td>\n",
       "      <td>imran</td>\n",
       "      <td>83</td>\n",
       "    </tr>\n",
       "  </tbody>\n",
       "</table>\n",
       "</div>"
      ],
      "text/plain": [
       "            Rollno   Names  Marks\n",
       "2022-01-07       1  faizan     56\n",
       "2022-01-08       2  shahid     76\n",
       "2022-01-09       3   chand     23\n",
       "2022-01-10       4  arshad     45\n",
       "2022-01-11       5   imran     83"
      ]
     },
     "execution_count": 48,
     "metadata": {},
     "output_type": "execute_result"
    }
   ],
   "source": [
    "date=pd.date_range(start='1/7/22',periods=5)\n",
    "print(date,\"\\n\")\n",
    "\n",
    "newdf=pd.DataFrame(data=data,index=date)\n",
    "print(\"\\n\",newdf)\n",
    "\n",
    "newdf.sort_index(axis=1,ascending=False)\n",
    "\n"
   ]
  },
  {
   "cell_type": "markdown",
   "metadata": {},
   "source": [
    "- Selection by Column Wise"
   ]
  },
  {
   "cell_type": "code",
   "execution_count": 49,
   "metadata": {},
   "outputs": [
    {
     "data": {
      "text/plain": [
       "0    1\n",
       "1    2\n",
       "2    3\n",
       "3    4\n",
       "4    5\n",
       "Name: Rollno, dtype: int64"
      ]
     },
     "execution_count": 49,
     "metadata": {},
     "output_type": "execute_result"
    }
   ],
   "source": [
    "df['Rollno']\n"
   ]
  },
  {
   "cell_type": "markdown",
   "metadata": {},
   "source": [
    "- Row Wise Selection"
   ]
  },
  {
   "cell_type": "code",
   "execution_count": 50,
   "metadata": {},
   "outputs": [
    {
     "name": "stdout",
     "output_type": "stream",
     "text": [
      "\n",
      "    Rollno   Names  Marks\n",
      "0       1  faizan     56\n",
      "1       2  shahid     76\n",
      "2       3   chand     23\n",
      "3       4  arshad     45\n",
      "4       5   imran     83\n",
      "\n",
      "    Rollno   Names  Marks\n",
      "0       1  faizan     56\n",
      "1       2  shahid     76\n",
      "\n",
      "    Rollno   Names  Marks\n",
      "2       3   chand     23\n",
      "3       4  arshad     45\n"
     ]
    }
   ],
   "source": [
    "print(\"\\n\",df[0:])\n",
    "print(\"\\n\",df[0:2])\n",
    "print(\"\\n\",df[2:4])"
   ]
  },
  {
   "cell_type": "code",
   "execution_count": 62,
   "metadata": {},
   "outputs": [
    {
     "name": "stdout",
     "output_type": "stream",
     "text": [
      "0    faizan\n",
      "1    shahid\n",
      "2      asif\n",
      "dtype: object\n",
      "0    28\n",
      "1    39\n",
      "2    40\n",
      "dtype: object\n",
      "After taking series1,series2 in dataframe:\n",
      "      Name Marks\n",
      "0  faizan    28\n",
      "1  shahid    39\n",
      "2    asif    40\n"
     ]
    }
   ],
   "source": [
    "serires1 = pd.Series(['faizan','shahid','asif'])\n",
    "serires2 = pd.Series(['28','39','40'])\n",
    "\n",
    "print(serires1)\n",
    "print(serires2)\n",
    "\n",
    "dataframe1=pd.DataFrame({'Name' : serires1,'Marks' : serires2})\n",
    "print(\"After taking series1,series2 in dataframe:\\n\",dataframe1)\n"
   ]
  }
 ],
 "metadata": {
  "kernelspec": {
   "display_name": "Python 3.10.5 64-bit",
   "language": "python",
   "name": "python3"
  },
  "language_info": {
   "codemirror_mode": {
    "name": "ipython",
    "version": 3
   },
   "file_extension": ".py",
   "mimetype": "text/x-python",
   "name": "python",
   "nbconvert_exporter": "python",
   "pygments_lexer": "ipython3",
   "version": "3.10.5"
  },
  "orig_nbformat": 4,
  "vscode": {
   "interpreter": {
    "hash": "22a808f4f3bd653072ee6d4e7b6e42544d1d070f4df0d3b0f2273cf2017f4479"
   }
  }
 },
 "nbformat": 4,
 "nbformat_minor": 2
}
